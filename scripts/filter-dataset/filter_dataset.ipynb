{
 "cells": [
  {
   "cell_type": "code",
   "execution_count": null,
   "metadata": {},
   "outputs": [],
   "source": [
    "import datasets\n",
    "\n",
    "features = datasets.Features({\n",
    "  \"website\": datasets.Value(\"string\"),\n",
    "  \"source_url\": datasets.Value(\"string\"),\n",
    "  \"scraped_on\": datasets.Value(\"string\"),\n",
    "  \"title\": datasets.Value(\"string\"),\n",
    "  \"content\": datasets.Value(\"string\"),\n",
    "  \"published_date\": datasets.Value(\"string\")\n",
    "})\n",
    "\n",
    "ds = datasets.load_dataset(\"eranmazur/raw-crossfit\", split=\"train\", features=features)"
   ]
  },
  {
   "cell_type": "code",
   "execution_count": null,
   "metadata": {},
   "outputs": [],
   "source": [
    "ds.num_rows"
   ]
  },
  {
   "cell_type": "code",
   "execution_count": null,
   "metadata": {},
   "outputs": [],
   "source": [
    "with open(\"terms.txt\") as file:\n",
    "  crossfit_terms = [word.lstrip().rstrip().strip().lower() for word in file]\n",
    "\n",
    "def recognize_crossfit_terms(text):\n",
    "    recognized_terms = set()\n",
    "\n",
    "    for term in crossfit_terms:\n",
    "        if term in text.lower():\n",
    "            recognized_terms.add(term)\n",
    "\n",
    "    return list(recognized_terms)"
   ]
  },
  {
   "cell_type": "code",
   "execution_count": null,
   "metadata": {},
   "outputs": [],
   "source": [
    "ds_with_terms = ds.filter(lambda example: len(recognize_crossfit_terms(example[\"content\"])) > 0)"
   ]
  },
  {
   "cell_type": "code",
   "execution_count": null,
   "metadata": {},
   "outputs": [],
   "source": [
    "ds_with_terms.num_rows"
   ]
  },
  {
   "cell_type": "code",
   "execution_count": null,
   "metadata": {},
   "outputs": [],
   "source": [
    "from transformers import LlamaTokenizerFast\n",
    "\n",
    "tokenizer = LlamaTokenizerFast.from_pretrained(\"hf-internal-testing/llama-tokenizer\")\n",
    "\n",
    "total_tokens = 0\n",
    "\n",
    "for sample in ds:\n",
    "  total_tokens += len(tokenizer.encode(sample[\"content\"]))\n",
    "\n",
    "total_tokens"
   ]
  },
  {
   "cell_type": "markdown",
   "metadata": {},
   "source": [
    "# Text Replacements"
   ]
  },
  {
   "cell_type": "code",
   "execution_count": null,
   "metadata": {},
   "outputs": [],
   "source": [
    "import re\n",
    "\n",
    "markdown_embedded_link_pattern = re.compile(r'\\[([^\\[\\]]+)\\]\\(([^()]+)\\)')\n",
    "\n",
    "def replace_link_pattern(markdown_text):\n",
    "    # Define a replacement function to replace the matched pattern\n",
    "    def replacer(match):\n",
    "        return match.group(1)  # Return the text inside [text]\n",
    "    \n",
    "    # Use re.sub to replace all occurrences of the pattern\n",
    "    replaced_text = re.sub(markdown_embedded_link_pattern, replacer, markdown_text)\n",
    "    \n",
    "    return replaced_text\n",
    "\n",
    "href_pattern = re.compile(r'<a\\s+href=\"([^\"]*)\"\\s*[^>]*>(.*?)<\\/a>')\n",
    "\n",
    "def replace_href_with_text(html_text):\n",
    "    replaced_text = re.sub(href_pattern, r'\\2', html_text)\n",
    "    return replaced_text\n",
    "\n",
    "removal_pattern = re.compile(r'(Post.*?(?:\\.|\\n|\\,|$)|Compare.*?(?:\\.|\\n|\\,|$))')\n",
    "\n",
    "def remove_patterns(input_string):\n",
    "    output_string = re.sub(removal_pattern, '', input_string)\n",
    "    return output_string\n",
    "\n",
    "def remove_lines_with_keywords(input_string):\n",
    "    # Define the keywords to match\n",
    "    keywords = ['comments', 'Share', 'Compare', 'Post']\n",
    "\n",
    "    # Create the regex pattern to match entire lines containing any of the keywords\n",
    "    pattern = r'^.*?(?:' + '|'.join(re.escape(keyword) for keyword in keywords) + r').*?$'\n",
    "\n",
    "    # Use re.MULTILINE flag to apply the pattern to each line\n",
    "    output_string = re.sub(pattern, '', input_string, flags=re.MULTILINE)\n",
    "    return output_string\n",
    "\n",
    "def remove_lines_with_more_than_7_words(input_string):\n",
    "    # Split the input string into lines\n",
    "    lines = input_string.split('\\n')\n",
    "\n",
    "    # Filter lines with more than 7 words\n",
    "    filtered_lines = [line for line in lines if len(line.split()) <= 7]\n",
    "\n",
    "    # Join the filtered lines back into a string\n",
    "    output_string = '\\n'.join(filtered_lines)\n",
    "\n",
    "    return output_string"
   ]
  },
  {
   "cell_type": "code",
   "execution_count": null,
   "metadata": {},
   "outputs": [],
   "source": [
    "def content_replacements(example):\n",
    "  # Replace markdown embedded links\n",
    "  example[\"content\"] = replace_link_pattern(example[\"content\"])\n",
    "\n",
    "  # Replace anchor tags\n",
    "  example[\"content\"] = replace_href_with_text(example[\"content\"])\n",
    "\n",
    "  # Removal patterns\n",
    "  example[\"content\"] = remove_patterns(example[\"content\"])\n",
    "\n",
    "  # Remove lines specific keywords\n",
    "  example[\"content\"] = remove_lines_with_keywords(example[\"content\"])\n",
    "\n",
    "  # Remove lines with more than 7 words\n",
    "  example[\"content\"] = remove_lines_with_more_than_7_words(example[\"content\"])\n",
    "\n",
    "  # Strip content\n",
    "  example[\"content\"] = example[\"content\"].strip()\n",
    "\n",
    "  return example\n",
    "\n",
    "ds = ds_with_terms.map(content_replacements)"
   ]
  },
  {
   "cell_type": "code",
   "execution_count": null,
   "metadata": {},
   "outputs": [],
   "source": []
  }
 ],
 "metadata": {
  "kernelspec": {
   "display_name": "env",
   "language": "python",
   "name": "python3"
  },
  "language_info": {
   "codemirror_mode": {
    "name": "ipython",
    "version": 3
   },
   "file_extension": ".py",
   "mimetype": "text/x-python",
   "name": "python",
   "nbconvert_exporter": "python",
   "pygments_lexer": "ipython3",
   "version": "3.12.2"
  }
 },
 "nbformat": 4,
 "nbformat_minor": 2
}
